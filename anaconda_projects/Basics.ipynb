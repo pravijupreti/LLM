{
 "cells": [
  {
   "cell_type": "code",
   "execution_count": 1,
   "id": "a86cc44e",
   "metadata": {},
   "outputs": [
    {
     "name": "stderr",
     "output_type": "stream",
     "text": [
      "2025-03-01 20:04:54.857876: I external/local_xla/xla/tsl/cuda/cudart_stub.cc:32] Could not find cuda drivers on your machine, GPU will not be used.\n",
      "2025-03-01 20:04:55.876261: I external/local_xla/xla/tsl/cuda/cudart_stub.cc:32] Could not find cuda drivers on your machine, GPU will not be used.\n",
      "2025-03-01 20:04:56.332897: E external/local_xla/xla/stream_executor/cuda/cuda_fft.cc:477] Unable to register cuFFT factory: Attempting to register factory for plugin cuFFT when one has already been registered\n",
      "WARNING: All log messages before absl::InitializeLog() is called are written to STDERR\n",
      "E0000 00:00:1740852296.877589    5463 cuda_dnn.cc:8310] Unable to register cuDNN factory: Attempting to register factory for plugin cuDNN when one has already been registered\n",
      "E0000 00:00:1740852297.212907    5463 cuda_blas.cc:1418] Unable to register cuBLAS factory: Attempting to register factory for plugin cuBLAS when one has already been registered\n",
      "2025-03-01 20:04:59.402035: I tensorflow/core/platform/cpu_feature_guard.cc:210] This TensorFlow binary is optimized to use available CPU instructions in performance-critical operations.\n",
      "To enable the following instructions: AVX2 FMA, in other operations, rebuild TensorFlow with the appropriate compiler flags.\n"
     ]
    },
    {
     "name": "stdout",
     "output_type": "stream",
     "text": [
      "No GPU found. Running on CPU.\n"
     ]
    },
    {
     "name": "stderr",
     "output_type": "stream",
     "text": [
      "W0000 00:00:1740852308.966468    5463 gpu_device.cc:2344] Cannot dlopen some GPU libraries. Please make sure the missing libraries mentioned above are installed properly if you would like to use GPU. Follow the guide at https://www.tensorflow.org/install/gpu for how to download and setup the required libraries for your platform.\n",
      "Skipping registering GPU devices...\n"
     ]
    }
   ],
   "source": [
    "import tensorflow as tf\n",
    "\n",
    "# Check if TensorFlow can detect the GPU\n",
    "gpus = tf.config.list_physical_devices('GPU')\n",
    "\n",
    "if gpus:\n",
    "    print(f\"Found {len(gpus)} GPU(s):\")\n",
    "    for gpu in gpus:\n",
    "        print(f\"- {gpu}\")\n",
    "else:\n",
    "    print(\"No GPU found. Running on CPU.\")\n"
   ]
  },
  {
   "cell_type": "code",
   "execution_count": 2,
   "id": "a95af199-d617-40e6-9c8f-f3917f9067d4",
   "metadata": {},
   "outputs": [
    {
     "data": {
      "text/html": [
       "<div>\n",
       "<style scoped>\n",
       "    .dataframe tbody tr th:only-of-type {\n",
       "        vertical-align: middle;\n",
       "    }\n",
       "\n",
       "    .dataframe tbody tr th {\n",
       "        vertical-align: top;\n",
       "    }\n",
       "\n",
       "    .dataframe thead th {\n",
       "        text-align: right;\n",
       "    }\n",
       "</style>\n",
       "<table border=\"1\" class=\"dataframe\">\n",
       "  <thead>\n",
       "    <tr style=\"text-align: right;\">\n",
       "      <th></th>\n",
       "      <th>Student_ID</th>\n",
       "      <th>First_Name</th>\n",
       "      <th>Last_Name</th>\n",
       "      <th>Roll_No</th>\n",
       "      <th>Class</th>\n",
       "      <th>Section</th>\n",
       "      <th>Age</th>\n",
       "      <th>Gender</th>\n",
       "      <th>School_Name</th>\n",
       "      <th>Joining_Date</th>\n",
       "      <th>...</th>\n",
       "      <th>Medical_Condition</th>\n",
       "      <th>Sports_Enrolled</th>\n",
       "      <th>Extracurricular_Activities</th>\n",
       "      <th>Library_Books_Borrowed</th>\n",
       "      <th>Bus_Route_No</th>\n",
       "      <th>Fees_Paid_Status</th>\n",
       "      <th>Scholarship_Eligibility</th>\n",
       "      <th>Volunteer_Hours</th>\n",
       "      <th>Disciplinary_Actions</th>\n",
       "      <th>Counseling_Sessions</th>\n",
       "    </tr>\n",
       "  </thead>\n",
       "  <tbody>\n",
       "    <tr>\n",
       "      <th>0</th>\n",
       "      <td>1000</td>\n",
       "      <td>Samantha</td>\n",
       "      <td>Sutton</td>\n",
       "      <td>51</td>\n",
       "      <td>8</td>\n",
       "      <td>C</td>\n",
       "      <td>17</td>\n",
       "      <td>Other</td>\n",
       "      <td>Hall, Mann and Allen</td>\n",
       "      <td>2018-12-26</td>\n",
       "      <td>...</td>\n",
       "      <td>Allergies</td>\n",
       "      <td>Basketball</td>\n",
       "      <td>Drama</td>\n",
       "      <td>5</td>\n",
       "      <td>5</td>\n",
       "      <td>Paid</td>\n",
       "      <td>No</td>\n",
       "      <td>80</td>\n",
       "      <td>5</td>\n",
       "      <td>5</td>\n",
       "    </tr>\n",
       "    <tr>\n",
       "      <th>1</th>\n",
       "      <td>1001</td>\n",
       "      <td>Jacqueline</td>\n",
       "      <td>Cox</td>\n",
       "      <td>80</td>\n",
       "      <td>3</td>\n",
       "      <td>A</td>\n",
       "      <td>11</td>\n",
       "      <td>Female</td>\n",
       "      <td>Taylor, Le and Waller</td>\n",
       "      <td>2017-09-27</td>\n",
       "      <td>...</td>\n",
       "      <td>Heart Condition</td>\n",
       "      <td>Tennis</td>\n",
       "      <td>Music</td>\n",
       "      <td>6</td>\n",
       "      <td>6</td>\n",
       "      <td>Pending</td>\n",
       "      <td>No</td>\n",
       "      <td>30</td>\n",
       "      <td>3</td>\n",
       "      <td>2</td>\n",
       "    </tr>\n",
       "    <tr>\n",
       "      <th>2</th>\n",
       "      <td>1002</td>\n",
       "      <td>Stephanie</td>\n",
       "      <td>Taylor</td>\n",
       "      <td>42</td>\n",
       "      <td>4</td>\n",
       "      <td>B</td>\n",
       "      <td>12</td>\n",
       "      <td>Male</td>\n",
       "      <td>Roberts, Copeland and Montgomery</td>\n",
       "      <td>2020-12-01</td>\n",
       "      <td>...</td>\n",
       "      <td>Diabetes</td>\n",
       "      <td>Tennis</td>\n",
       "      <td>Drama</td>\n",
       "      <td>25</td>\n",
       "      <td>4</td>\n",
       "      <td>Paid</td>\n",
       "      <td>Yes</td>\n",
       "      <td>87</td>\n",
       "      <td>2</td>\n",
       "      <td>1</td>\n",
       "    </tr>\n",
       "    <tr>\n",
       "      <th>3</th>\n",
       "      <td>1003</td>\n",
       "      <td>Michael</td>\n",
       "      <td>Perez</td>\n",
       "      <td>6</td>\n",
       "      <td>11</td>\n",
       "      <td>C</td>\n",
       "      <td>6</td>\n",
       "      <td>Other</td>\n",
       "      <td>Munoz PLC</td>\n",
       "      <td>2015-11-04</td>\n",
       "      <td>...</td>\n",
       "      <td>Allergies</td>\n",
       "      <td>Basketball</td>\n",
       "      <td>Music</td>\n",
       "      <td>30</td>\n",
       "      <td>1</td>\n",
       "      <td>Pending</td>\n",
       "      <td>No</td>\n",
       "      <td>46</td>\n",
       "      <td>9</td>\n",
       "      <td>0</td>\n",
       "    </tr>\n",
       "    <tr>\n",
       "      <th>4</th>\n",
       "      <td>1004</td>\n",
       "      <td>Blake</td>\n",
       "      <td>Powers</td>\n",
       "      <td>4</td>\n",
       "      <td>7</td>\n",
       "      <td>B</td>\n",
       "      <td>9</td>\n",
       "      <td>Other</td>\n",
       "      <td>Freeman Ltd</td>\n",
       "      <td>2017-09-06</td>\n",
       "      <td>...</td>\n",
       "      <td>Asthma</td>\n",
       "      <td>NaN</td>\n",
       "      <td>Drama</td>\n",
       "      <td>33</td>\n",
       "      <td>11</td>\n",
       "      <td>Paid</td>\n",
       "      <td>Yes</td>\n",
       "      <td>42</td>\n",
       "      <td>4</td>\n",
       "      <td>2</td>\n",
       "    </tr>\n",
       "  </tbody>\n",
       "</table>\n",
       "<p>5 rows × 43 columns</p>\n",
       "</div>"
      ],
      "text/plain": [
       "   Student_ID  First_Name Last_Name  Roll_No  Class Section  Age  Gender  \\\n",
       "0        1000    Samantha    Sutton       51      8       C   17   Other   \n",
       "1        1001  Jacqueline       Cox       80      3       A   11  Female   \n",
       "2        1002   Stephanie    Taylor       42      4       B   12    Male   \n",
       "3        1003     Michael     Perez        6     11       C    6   Other   \n",
       "4        1004       Blake    Powers        4      7       B    9   Other   \n",
       "\n",
       "                        School_Name Joining_Date  ...  Medical_Condition  \\\n",
       "0              Hall, Mann and Allen   2018-12-26  ...          Allergies   \n",
       "1             Taylor, Le and Waller   2017-09-27  ...    Heart Condition   \n",
       "2  Roberts, Copeland and Montgomery   2020-12-01  ...           Diabetes   \n",
       "3                         Munoz PLC   2015-11-04  ...          Allergies   \n",
       "4                       Freeman Ltd   2017-09-06  ...             Asthma   \n",
       "\n",
       "   Sports_Enrolled  Extracurricular_Activities  Library_Books_Borrowed  \\\n",
       "0       Basketball                       Drama                       5   \n",
       "1           Tennis                       Music                       6   \n",
       "2           Tennis                       Drama                      25   \n",
       "3       Basketball                       Music                      30   \n",
       "4              NaN                       Drama                      33   \n",
       "\n",
       "   Bus_Route_No  Fees_Paid_Status  Scholarship_Eligibility  Volunteer_Hours  \\\n",
       "0             5              Paid                       No               80   \n",
       "1             6           Pending                       No               30   \n",
       "2             4              Paid                      Yes               87   \n",
       "3             1           Pending                       No               46   \n",
       "4            11              Paid                      Yes               42   \n",
       "\n",
       "   Disciplinary_Actions  Counseling_Sessions  \n",
       "0                     5                    5  \n",
       "1                     3                    2  \n",
       "2                     2                    1  \n",
       "3                     9                    0  \n",
       "4                     4                    2  \n",
       "\n",
       "[5 rows x 43 columns]"
      ]
     },
     "execution_count": 2,
     "metadata": {},
     "output_type": "execute_result"
    }
   ],
   "source": [
    "import pandas as pd\n",
    "df = pd.read_csv(\"student_data.csv\")\n",
    "df.head()"
   ]
  },
  {
   "cell_type": "code",
   "execution_count": 3,
   "id": "91c5d608",
   "metadata": {},
   "outputs": [
    {
     "name": "stdout",
     "output_type": "stream",
     "text": [
      "12.004017\n"
     ]
    }
   ],
   "source": [
    "x = df[\"Age\"].mean()\n",
    "print(x)"
   ]
  },
  {
   "cell_type": "code",
   "execution_count": 4,
   "id": "8a6c86e8",
   "metadata": {},
   "outputs": [
    {
     "name": "stdout",
     "output_type": "stream",
     "text": [
      "Index                               128\n",
      "Student_ID                      8000000\n",
      "First_Name                     63032471\n",
      "Last_Name                      63072036\n",
      "Roll_No                         8000000\n",
      "Class                           8000000\n",
      "Section                        58000000\n",
      "Age                             8000000\n",
      "Gender                         62000748\n",
      "School_Name                    73541230\n",
      "Joining_Date                   67000000\n",
      "Subjects_Enrolled               8000000\n",
      "Math_Grade                      8000000\n",
      "Science_Grade                   8000000\n",
      "English_Grade                   8000000\n",
      "History_Grade                   8000000\n",
      "Geography_Grade                 8000000\n",
      "Total_Grade                     8000000\n",
      "Performance_Score               8000000\n",
      "Discipline_Score                8000000\n",
      "Average_Attendance              8000000\n",
      "Parent_1_Name                  70274220\n",
      "Parent_2_Name                  70271933\n",
      "Parent_1_Phone                 73160645\n",
      "Parent_2_Phone                 73160782\n",
      "Parent_1_Email                 78828236\n",
      "Parent_2_Email                 78828103\n",
      "Parent_1_Occupation            77814344\n",
      "Parent_2_Occupation            77817661\n",
      "Address                       101723455\n",
      "City                           69045639\n",
      "State                          59000000\n",
      "ZIP_Code                        8000000\n",
      "Emergency_Contact              73163897\n",
      "Medical_Condition              59566608\n",
      "Sports_Enrolled                56246448\n",
      "Extracurricular_Activities     56016428\n",
      "Library_Books_Borrowed          8000000\n",
      "Bus_Route_No                    8000000\n",
      "Fees_Paid_Status               62998465\n",
      "Scholarship_Eligibility        59500266\n",
      "Volunteer_Hours                 8000000\n",
      "Disciplinary_Actions            8000000\n",
      "Counseling_Sessions             8000000\n",
      "dtype: int64\n"
     ]
    }
   ],
   "source": [
    "print(df.memory_usage(deep=True))"
   ]
  },
  {
   "cell_type": "code",
   "execution_count": 5,
   "id": "130361e8",
   "metadata": {},
   "outputs": [
    {
     "name": "stdout",
     "output_type": "stream",
     "text": [
      "Student_ID                     int64\n",
      "First_Name                    object\n",
      "Last_Name                     object\n",
      "Roll_No                        int64\n",
      "Class                          int64\n",
      "Section                       object\n",
      "Age                            int64\n",
      "Gender                        object\n",
      "School_Name                   object\n",
      "Joining_Date                  object\n",
      "Subjects_Enrolled              int64\n",
      "Math_Grade                     int64\n",
      "Science_Grade                  int64\n",
      "English_Grade                  int64\n",
      "History_Grade                  int64\n",
      "Geography_Grade                int64\n",
      "Total_Grade                    int64\n",
      "Performance_Score              int64\n",
      "Discipline_Score               int64\n",
      "Average_Attendance             int64\n",
      "Parent_1_Name                 object\n",
      "Parent_2_Name                 object\n",
      "Parent_1_Phone                object\n",
      "Parent_2_Phone                object\n",
      "Parent_1_Email                object\n",
      "Parent_2_Email                object\n",
      "Parent_1_Occupation           object\n",
      "Parent_2_Occupation           object\n",
      "Address                       object\n",
      "City                          object\n",
      "State                         object\n",
      "ZIP_Code                       int64\n",
      "Emergency_Contact             object\n",
      "Medical_Condition             object\n",
      "Sports_Enrolled               object\n",
      "Extracurricular_Activities    object\n",
      "Library_Books_Borrowed         int64\n",
      "Bus_Route_No                   int64\n",
      "Fees_Paid_Status              object\n",
      "Scholarship_Eligibility       object\n",
      "Volunteer_Hours                int64\n",
      "Disciplinary_Actions           int64\n",
      "Counseling_Sessions            int64\n",
      "dtype: object\n"
     ]
    }
   ],
   "source": [
    "print(df.dtypes)"
   ]
  },
  {
   "cell_type": "code",
   "execution_count": 6,
   "id": "5830355c",
   "metadata": {},
   "outputs": [
    {
     "name": "stdout",
     "output_type": "stream",
     "text": [
      "0         17\n",
      "1         11\n",
      "2         12\n",
      "3          6\n",
      "4          9\n",
      "          ..\n",
      "999995    17\n",
      "999996    13\n",
      "999997    12\n",
      "999998    15\n",
      "999999     7\n",
      "Name: Age, Length: 1000000, dtype: int64\n"
     ]
    }
   ],
   "source": [
    "ageOnly = df[\"Age\"]\n",
    "print(ageOnly)"
   ]
  },
  {
   "cell_type": "code",
   "execution_count": 7,
   "id": "efc4c14f",
   "metadata": {},
   "outputs": [
    {
     "name": "stdout",
     "output_type": "stream",
     "text": [
      "0         17.0\n",
      "1         11.0\n",
      "2         12.0\n",
      "3          6.0\n",
      "4          9.0\n",
      "          ... \n",
      "999995    17.0\n",
      "999996    13.0\n",
      "999997    12.0\n",
      "999998    15.0\n",
      "999999     7.0\n",
      "Name: Age, Length: 1000000, dtype: float64\n"
     ]
    }
   ],
   "source": [
    "ageOnly = ageOnly.astype('float')\n",
    "print(ageOnly)"
   ]
  },
  {
   "cell_type": "code",
   "execution_count": 8,
   "id": "e05c68c5",
   "metadata": {},
   "outputs": [
    {
     "data": {
      "text/plain": [
       "np.float64(12.004017)"
      ]
     },
     "execution_count": 8,
     "metadata": {},
     "output_type": "execute_result"
    }
   ],
   "source": [
    "ageOnly.mean()"
   ]
  },
  {
   "cell_type": "code",
   "execution_count": 9,
   "id": "bb51b300-3765-436c-a053-560797b153ab",
   "metadata": {},
   "outputs": [
    {
     "name": "stdout",
     "output_type": "stream",
     "text": [
      "Student_ID                         0\n",
      "First_Name                         0\n",
      "Last_Name                          0\n",
      "Roll_No                            0\n",
      "Class                              0\n",
      "Section                            0\n",
      "Age                                0\n",
      "Gender                             0\n",
      "School_Name                        0\n",
      "Joining_Date                       0\n",
      "Subjects_Enrolled                  0\n",
      "Math_Grade                         0\n",
      "Science_Grade                      0\n",
      "English_Grade                      0\n",
      "History_Grade                      0\n",
      "Geography_Grade                    0\n",
      "Total_Grade                        0\n",
      "Performance_Score                  0\n",
      "Discipline_Score                   0\n",
      "Average_Attendance                 0\n",
      "Parent_1_Name                      0\n",
      "Parent_2_Name                      0\n",
      "Parent_1_Phone                     0\n",
      "Parent_2_Phone                     0\n",
      "Parent_1_Email                     0\n",
      "Parent_2_Email                     0\n",
      "Parent_1_Occupation                0\n",
      "Parent_2_Occupation                0\n",
      "Address                            0\n",
      "City                               0\n",
      "State                              0\n",
      "ZIP_Code                           0\n",
      "Emergency_Contact                  0\n",
      "Medical_Condition             200824\n",
      "Sports_Enrolled               250088\n",
      "Extracurricular_Activities    249448\n",
      "Library_Books_Borrowed             0\n",
      "Bus_Route_No                       0\n",
      "Fees_Paid_Status                   0\n",
      "Scholarship_Eligibility            0\n",
      "Volunteer_Hours                    0\n",
      "Disciplinary_Actions               0\n",
      "Counseling_Sessions                0\n",
      "dtype: int64\n"
     ]
    }
   ],
   "source": [
    "print(df.isna().sum())"
   ]
  },
  {
   "cell_type": "code",
   "execution_count": 10,
   "id": "eac97c3e-bdf1-4f4f-8e33-6c6bacab3b97",
   "metadata": {},
   "outputs": [
    {
     "name": "stdout",
     "output_type": "stream",
     "text": [
      "Student_ID                    0\n",
      "First_Name                    0\n",
      "Last_Name                     0\n",
      "Roll_No                       0\n",
      "Class                         0\n",
      "Section                       0\n",
      "Age                           0\n",
      "Gender                        0\n",
      "School_Name                   0\n",
      "Joining_Date                  0\n",
      "Subjects_Enrolled             0\n",
      "Math_Grade                    0\n",
      "Science_Grade                 0\n",
      "English_Grade                 0\n",
      "History_Grade                 0\n",
      "Geography_Grade               0\n",
      "Total_Grade                   0\n",
      "Performance_Score             0\n",
      "Discipline_Score              0\n",
      "Average_Attendance            0\n",
      "Parent_1_Name                 0\n",
      "Parent_2_Name                 0\n",
      "Parent_1_Phone                0\n",
      "Parent_2_Phone                0\n",
      "Parent_1_Email                0\n",
      "Parent_2_Email                0\n",
      "Parent_1_Occupation           0\n",
      "Parent_2_Occupation           0\n",
      "Address                       0\n",
      "City                          0\n",
      "State                         0\n",
      "ZIP_Code                      0\n",
      "Emergency_Contact             0\n",
      "Medical_Condition             0\n",
      "Sports_Enrolled               0\n",
      "Extracurricular_Activities    0\n",
      "Library_Books_Borrowed        0\n",
      "Bus_Route_No                  0\n",
      "Fees_Paid_Status              0\n",
      "Scholarship_Eligibility       0\n",
      "Volunteer_Hours               0\n",
      "Disciplinary_Actions          0\n",
      "Counseling_Sessions           0\n",
      "dtype: int64\n"
     ]
    }
   ],
   "source": [
    "print((df == \" \").sum())"
   ]
  },
  {
   "cell_type": "code",
   "execution_count": null,
   "id": "66dd93aa-6609-42fc-8807-65b26d853d3e",
   "metadata": {},
   "outputs": [],
   "source": []
  },
  {
   "cell_type": "code",
   "execution_count": null,
   "id": "e816ba3f-0525-4a05-9ebc-f9fd8cfe4ba4",
   "metadata": {},
   "outputs": [],
   "source": []
  },
  {
   "cell_type": "code",
   "execution_count": null,
   "id": "ba6f7dac-b443-4a72-ab73-0d69d7465cdb",
   "metadata": {},
   "outputs": [],
   "source": []
  },
  {
   "cell_type": "code",
   "execution_count": null,
   "id": "fd29317b-61b5-4ba3-99f6-a71eed206ebc",
   "metadata": {},
   "outputs": [],
   "source": []
  },
  {
   "cell_type": "code",
   "execution_count": null,
   "id": "7750f927-ff81-484d-a0e4-dc9ab6c8d08b",
   "metadata": {},
   "outputs": [],
   "source": []
  },
  {
   "cell_type": "code",
   "execution_count": null,
   "id": "5e684c3b-4601-4c99-bee5-e57aa8c9e28b",
   "metadata": {},
   "outputs": [],
   "source": []
  },
  {
   "cell_type": "code",
   "execution_count": null,
   "id": "822dbc94-9a78-424e-a5e0-47e3b6fb32de",
   "metadata": {},
   "outputs": [],
   "source": []
  },
  {
   "cell_type": "code",
   "execution_count": null,
   "id": "cce13209-f009-4f06-bc68-c5424027d6bd",
   "metadata": {},
   "outputs": [],
   "source": []
  },
  {
   "cell_type": "code",
   "execution_count": null,
   "id": "b0a8fb56-d337-4978-9b78-fca924f2efa5",
   "metadata": {},
   "outputs": [],
   "source": []
  }
 ],
 "metadata": {
  "kernelspec": {
   "display_name": "Python 3 (ipykernel)",
   "language": "python",
   "name": "python3"
  },
  "language_info": {
   "codemirror_mode": {
    "name": "ipython",
    "version": 3
   },
   "file_extension": ".py",
   "mimetype": "text/x-python",
   "name": "python",
   "nbconvert_exporter": "python",
   "pygments_lexer": "ipython3",
   "version": "3.10.16"
  }
 },
 "nbformat": 4,
 "nbformat_minor": 5
}
